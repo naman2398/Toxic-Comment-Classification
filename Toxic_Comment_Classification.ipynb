{
 "cells": [
  {
   "cell_type": "code",
   "execution_count": 17,
   "id": "b3e6f3cb-e64d-482c-a91c-c836483cf5fc",
   "metadata": {},
   "outputs": [],
   "source": [
    "import pandas as pd\n",
    "import numpy as np\n",
    "import re\n",
    "import contractions\n",
    "from tqdm.notebook import tqdm\n",
    "import nltk\n",
    "from nltk.stem.wordnet import WordNetLemmatizer\n",
    "import seaborn as sns\n",
    "import tensorflow as tf\n",
    "import numpy as np\n",
    "import matplotlib.pyplot as plt"
   ]
  },
  {
   "cell_type": "code",
   "execution_count": null,
   "id": "8f59d474-01dd-469d-b6b7-b55b067b91fe",
   "metadata": {},
   "outputs": [],
   "source": [
    "df = pd.read_csv(\"train.csv\")\n",
    "df.head()"
   ]
  },
  {
   "cell_type": "code",
   "execution_count": 18,
   "id": "7ad27ef0-46a1-4043-912c-36107d947529",
   "metadata": {},
   "outputs": [],
   "source": [
    "labels = [\"toxic\", \"severe_toxic\", \"obscene\", \"threat\", \"insult\", \"identity_hate\"]\n",
    "# df['TOXIC']=np.where(df[labels].sum(axis=1)>0,1,0)\n",
    "# df['TOXIC'].value_counts()17988"
   ]
  },
  {
   "cell_type": "markdown",
   "id": "8ed44c67-99a4-48f8-ac89-56e5cfe0cddc",
   "metadata": {},
   "source": [
    "### Data Preprocessing"
   ]
  },
  {
   "cell_type": "code",
   "execution_count": null,
   "id": "89796738-9f40-400e-bc2b-1cd631b94857",
   "metadata": {},
   "outputs": [],
   "source": [
    "def preprocess(text):\n",
    "    preprocessed_text = []\n",
    "    for each_text in tqdm(text):\n",
    "        text = contractions.fix(each_text)\n",
    "        text = re.sub(\"\\n\", \" \", text)\n",
    "        text = re.sub(\"[\\d+\\W+]\", \" \", text)\n",
    "        text = re.sub(\"\\s+\", \" \", text)\n",
    "        text = re.sub(r\"<.*>\", \" \", text, flags=re.MULTILINE)\n",
    "        text = re.sub(r\"http\\S+\", \" \", text, flags=re.MULTILINE)\n",
    "        text = re.sub(r\"www\\S+\", \" \", text, flags=re.MULTILINE)\n",
    "        text = re.sub(r\"(\\w)(\\1{2,})\", \"\\\\1\", text, flags=re.MULTILINE)\n",
    "        text = re.sub(r\"\\b\\w{1,2}\\b\", \" \", text)\n",
    "        preprocessed_text.append(text)\n",
    "    return preprocessed_text"
   ]
  },
  {
   "cell_type": "code",
   "execution_count": null,
   "id": "0be22c19-277b-4ee6-abfe-b660f0c636a1",
   "metadata": {},
   "outputs": [],
   "source": [
    "processed_data = preprocess(df[\"comment_text\"].values)\n",
    "df_preprocessed = pd.DataFrame({\"processed_comment\": processed_data})\n",
    "df[\"processed_comment\"] = df_preprocessed"
   ]
  },
  {
   "cell_type": "code",
   "execution_count": null,
   "id": "5ae4354e-b732-4282-9bfc-2b28e0a30a40",
   "metadata": {},
   "outputs": [],
   "source": [
    "for i in np.random.randint(0, len(df), size=5):\n",
    "    print(\"----Original text-----\", df[\"comment_text\"].values[i])\n",
    "    print(\"\\n\")\n",
    "    print(\"----Processecd text-----\", df[\"processed_comment\"].values[i])\n",
    "    print(\"\\n\")\n",
    "    print(\"\\n\")"
   ]
  },
  {
   "cell_type": "code",
   "execution_count": null,
   "id": "15d8e268-a8a3-480d-9d1a-d45e888d1cb5",
   "metadata": {},
   "outputs": [],
   "source": [
    "nltk.download(\"stopwords\")\n",
    "stopwords = nltk.corpus.stopwords.words(\"english\")"
   ]
  },
  {
   "cell_type": "code",
   "execution_count": null,
   "id": "02b98ace-b67e-41a1-8f66-f94e8eb78a8a",
   "metadata": {},
   "outputs": [],
   "source": [
    "nltk.download(\"wordnet\")\n",
    "nltk.download(\"omw-1.4\")"
   ]
  },
  {
   "cell_type": "code",
   "execution_count": null,
   "id": "4bec466d-53aa-44a9-a78e-943eebbf8cdd",
   "metadata": {},
   "outputs": [],
   "source": [
    "from keras.preprocessing.text import text_to_word_sequence\n",
    "\n",
    "lemma = WordNetLemmatizer()\n",
    "processed_text = [\n",
    "    [\n",
    "        lemma.lemmatize(each_wrd, pos=\"v\")\n",
    "        for each_wrd in text_to_word_sequence(each_sent)\n",
    "        if each_wrd not in stopwords\n",
    "    ]\n",
    "    for each_sent in processed_data\n",
    "]\n",
    "processed_text[1:2]"
   ]
  },
  {
   "cell_type": "code",
   "execution_count": null,
   "id": "297960fc-60d6-48e8-8487-c3136a29092f",
   "metadata": {},
   "outputs": [],
   "source": [
    "preprocessed_data = []\n",
    "for i in processed_text:\n",
    "    preprocessed_data.append(\" \".join(i))\n",
    "preprocessed_data[1:5]"
   ]
  },
  {
   "cell_type": "code",
   "execution_count": null,
   "id": "1b35a1ca-6390-4bd3-86c5-4442bd7705ac",
   "metadata": {},
   "outputs": [],
   "source": [
    "df_preprocessed = pd.DataFrame({\"processed_comment\": preprocessed_data})\n",
    "df[\"processed_comment\"] = df_preprocessed"
   ]
  },
  {
   "cell_type": "code",
   "execution_count": null,
   "id": "345f3a09-69ef-42b3-ab53-370c4da8d488",
   "metadata": {},
   "outputs": [],
   "source": [
    "for i in np.random.randint(0, len(df), size=5):\n",
    "    print(i)\n",
    "    print(\"----Original text-----\", df[\"comment_text\"].values[i])\n",
    "    print(\"\\n\")\n",
    "    print(\"----Processecd text-----\", df[\"processed_comment\"].values[i])\n",
    "    print(\"\\n\")\n",
    "    print(\"\\n\")"
   ]
  },
  {
   "cell_type": "code",
   "execution_count": null,
   "id": "f9c6fcfd-ae3c-4a69-8b2e-119dcba899e9",
   "metadata": {},
   "outputs": [],
   "source": [
    "df.to_csv(\"Preprocessed train.csv\")"
   ]
  },
  {
   "cell_type": "markdown",
   "id": "327cb549-20fe-4f2f-9c4c-2203cea0d8f0",
   "metadata": {},
   "source": [
    "### Logistic Regression Implementation"
   ]
  },
  {
   "cell_type": "code",
   "execution_count": null,
   "id": "d7fcc4d4-ef64-47f3-9c1a-028a0f567cb9",
   "metadata": {},
   "outputs": [],
   "source": [
    "from sklearn.feature_extraction.text import TfidfVectorizer\n",
    "\n",
    "tfidf = TfidfVectorizer(\n",
    "    decode_error=\"ignore\", ngram_range=(1, 1), max_df=0.95, min_df=10\n",
    ")\n",
    "X = tfidf.fit_transform(df[\"processed_comment\"].values).todense()"
   ]
  },
  {
   "cell_type": "code",
   "execution_count": null,
   "id": "6a006431-415a-4c88-be65-de048a7a3279",
   "metadata": {},
   "outputs": [],
   "source": [
    "y = df[\"TOXIC\"]\n",
    "from sklearn.model_selection import train_test_split\n",
    "\n",
    "X_train, X_test, y_train, y_test = train_test_split(\n",
    "    X, y, test_size=0.20, random_state=42, shuffle=True\n",
    ")"
   ]
  },
  {
   "cell_type": "code",
   "execution_count": null,
   "id": "e9b1dabd-f60c-449e-b214-f97ce6ed94ea",
   "metadata": {},
   "outputs": [],
   "source": [
    "from sklearn.linear_model import LogisticRegression\n",
    "\n",
    "lg = LogisticRegression()\n",
    "model_lg = lg.fit(X_train, y_train)\n",
    "y_preds = model_lg.predict(X_test)\n",
    "y_preds_prob = model_lg.predict_proba(X_test)[:, 1]"
   ]
  },
  {
   "cell_type": "code",
   "execution_count": null,
   "id": "a750cb3b-870f-4eeb-84e7-286b0dbf5f3a",
   "metadata": {},
   "outputs": [],
   "source": [
    "y_preds_prob = model_lg.predict_proba(X_test)[:, 1]\n",
    "y_preds_prob[1:20]"
   ]
  },
  {
   "cell_type": "code",
   "execution_count": null,
   "id": "99c86c05-c2b4-48b3-89df-94cfdd3b1f0b",
   "metadata": {},
   "outputs": [],
   "source": [
    "y_preds"
   ]
  },
  {
   "cell_type": "code",
   "execution_count": null,
   "id": "1a88d3a1-c430-4120-8fc4-7bc209c87b0f",
   "metadata": {},
   "outputs": [],
   "source": [
    "from sklearn.metrics import roc_auc_score\n",
    "\n",
    "roc_auc_score(y_test, y_preds_prob)"
   ]
  },
  {
   "cell_type": "code",
   "execution_count": null,
   "id": "af23e827-b614-4201-b7cd-e28f976d76a9",
   "metadata": {},
   "outputs": [],
   "source": [
    "from sklearn.metrics import confusion_matrix, precision_score, recall_score, f1_score\n",
    "\n",
    "pred_matrix = confusion_matrix(y_test, y_preds)\n",
    "precision = precision_score(y_test, y_preds)\n",
    "recall = recall_score(y_test, y_preds)\n",
    "f1 = f1_score(y_test, y_preds)\n",
    "pred_matrix"
   ]
  },
  {
   "cell_type": "code",
   "execution_count": null,
   "id": "29bf5e4b-da5f-4368-9f5f-cd1895118976",
   "metadata": {},
   "outputs": [],
   "source": [
    "precision"
   ]
  },
  {
   "cell_type": "code",
   "execution_count": null,
   "id": "da33592b-da6c-4f6d-addc-11101e307f97",
   "metadata": {},
   "outputs": [],
   "source": [
    "recall"
   ]
  },
  {
   "cell_type": "code",
   "execution_count": null,
   "id": "7cf245fd-d985-48a6-a2a4-4d869aeea905",
   "metadata": {},
   "outputs": [],
   "source": [
    "f1"
   ]
  },
  {
   "cell_type": "markdown",
   "id": "f4540ab7-856e-4dc7-8b7a-37cd6291c7a0",
   "metadata": {},
   "source": [
    "## Neural Network Implementation"
   ]
  },
  {
   "cell_type": "code",
   "execution_count": 19,
   "id": "3bd5998f-dabe-4754-a0d9-0ca812c3ac3c",
   "metadata": {},
   "outputs": [],
   "source": [
    "from tensorflow.keras.layers import TextVectorization"
   ]
  },
  {
   "cell_type": "code",
   "execution_count": 20,
   "id": "ef864300-d7e8-4a4d-b152-9c6cd4023dd9",
   "metadata": {},
   "outputs": [
    {
     "data": {
      "text/html": [
       "<div>\n",
       "<style scoped>\n",
       "    .dataframe tbody tr th:only-of-type {\n",
       "        vertical-align: middle;\n",
       "    }\n",
       "\n",
       "    .dataframe tbody tr th {\n",
       "        vertical-align: top;\n",
       "    }\n",
       "\n",
       "    .dataframe thead th {\n",
       "        text-align: right;\n",
       "    }\n",
       "</style>\n",
       "<table border=\"1\" class=\"dataframe\">\n",
       "  <thead>\n",
       "    <tr style=\"text-align: right;\">\n",
       "      <th></th>\n",
       "      <th>Unnamed: 0</th>\n",
       "      <th>id</th>\n",
       "      <th>comment_text</th>\n",
       "      <th>toxic</th>\n",
       "      <th>severe_toxic</th>\n",
       "      <th>obscene</th>\n",
       "      <th>threat</th>\n",
       "      <th>insult</th>\n",
       "      <th>identity_hate</th>\n",
       "      <th>processed_comment</th>\n",
       "    </tr>\n",
       "  </thead>\n",
       "  <tbody>\n",
       "    <tr>\n",
       "      <th>0</th>\n",
       "      <td>0</td>\n",
       "      <td>0000997932d777bf</td>\n",
       "      <td>Explanation\\nWhy the edits made under my usern...</td>\n",
       "      <td>0</td>\n",
       "      <td>0</td>\n",
       "      <td>0</td>\n",
       "      <td>0</td>\n",
       "      <td>0</td>\n",
       "      <td>0</td>\n",
       "      <td>explanation edit make username hardcore metall...</td>\n",
       "    </tr>\n",
       "    <tr>\n",
       "      <th>1</th>\n",
       "      <td>1</td>\n",
       "      <td>000103f0d9cfb60f</td>\n",
       "      <td>D'aww! He matches this background colour I'm s...</td>\n",
       "      <td>0</td>\n",
       "      <td>0</td>\n",
       "      <td>0</td>\n",
       "      <td>0</td>\n",
       "      <td>0</td>\n",
       "      <td>0</td>\n",
       "      <td>aww match background colour seemingly stick th...</td>\n",
       "    </tr>\n",
       "    <tr>\n",
       "      <th>2</th>\n",
       "      <td>2</td>\n",
       "      <td>000113f07ec002fd</td>\n",
       "      <td>Hey man, I'm really not trying to edit war. It...</td>\n",
       "      <td>0</td>\n",
       "      <td>0</td>\n",
       "      <td>0</td>\n",
       "      <td>0</td>\n",
       "      <td>0</td>\n",
       "      <td>0</td>\n",
       "      <td>hey man really try edit war guy constantly rem...</td>\n",
       "    </tr>\n",
       "    <tr>\n",
       "      <th>3</th>\n",
       "      <td>3</td>\n",
       "      <td>0001b41b1c6bb37e</td>\n",
       "      <td>\"\\nMore\\nI can't make any real suggestions on ...</td>\n",
       "      <td>0</td>\n",
       "      <td>0</td>\n",
       "      <td>0</td>\n",
       "      <td>0</td>\n",
       "      <td>0</td>\n",
       "      <td>0</td>\n",
       "      <td>cannot make real suggestions improvement wonde...</td>\n",
       "    </tr>\n",
       "    <tr>\n",
       "      <th>4</th>\n",
       "      <td>4</td>\n",
       "      <td>0001d958c54c6e35</td>\n",
       "      <td>You, sir, are my hero. Any chance you remember...</td>\n",
       "      <td>0</td>\n",
       "      <td>0</td>\n",
       "      <td>0</td>\n",
       "      <td>0</td>\n",
       "      <td>0</td>\n",
       "      <td>0</td>\n",
       "      <td>sir hero chance remember page</td>\n",
       "    </tr>\n",
       "  </tbody>\n",
       "</table>\n",
       "</div>"
      ],
      "text/plain": [
       "   Unnamed: 0                id  \\\n",
       "0           0  0000997932d777bf   \n",
       "1           1  000103f0d9cfb60f   \n",
       "2           2  000113f07ec002fd   \n",
       "3           3  0001b41b1c6bb37e   \n",
       "4           4  0001d958c54c6e35   \n",
       "\n",
       "                                        comment_text  toxic  severe_toxic  \\\n",
       "0  Explanation\\nWhy the edits made under my usern...      0             0   \n",
       "1  D'aww! He matches this background colour I'm s...      0             0   \n",
       "2  Hey man, I'm really not trying to edit war. It...      0             0   \n",
       "3  \"\\nMore\\nI can't make any real suggestions on ...      0             0   \n",
       "4  You, sir, are my hero. Any chance you remember...      0             0   \n",
       "\n",
       "   obscene  threat  insult  identity_hate  \\\n",
       "0        0       0       0              0   \n",
       "1        0       0       0              0   \n",
       "2        0       0       0              0   \n",
       "3        0       0       0              0   \n",
       "4        0       0       0              0   \n",
       "\n",
       "                                   processed_comment  \n",
       "0  explanation edit make username hardcore metall...  \n",
       "1  aww match background colour seemingly stick th...  \n",
       "2  hey man really try edit war guy constantly rem...  \n",
       "3  cannot make real suggestions improvement wonde...  \n",
       "4                      sir hero chance remember page  "
      ]
     },
     "execution_count": 20,
     "metadata": {},
     "output_type": "execute_result"
    }
   ],
   "source": [
    "dfpro = pd.read_csv(\"Preprocessed train.csv\")\n",
    "dfpro.head()"
   ]
  },
  {
   "cell_type": "code",
   "execution_count": 21,
   "id": "6e78122e-0d3c-49af-a7ea-181907f14383",
   "metadata": {},
   "outputs": [],
   "source": [
    "dfpro.fillna(\" \", inplace=True)"
   ]
  },
  {
   "cell_type": "code",
   "execution_count": 22,
   "id": "5ee33593-29c6-42b0-b36e-2501c0c60623",
   "metadata": {},
   "outputs": [
    {
     "data": {
      "text/plain": [
       "<AxesSubplot:ylabel='Count'>"
      ]
     },
     "execution_count": 22,
     "metadata": {},
     "output_type": "execute_result"
    },
    {
     "data": {
      "image/png": "[encoded data removed]",
      "text/plain": [
       "<Figure size 432x288 with 1 Axes>"
      ]
     },
     "metadata": {
      "needs_background": "light"
     },
     "output_type": "display_data"
    }
   ],
   "source": [
    "comment_len = [len(comment.split()) for comment in dfpro[\"processed_comment\"]]\n",
    "sns.histplot(comment_len)"
   ]
  },
  {
   "cell_type": "code",
   "execution_count": 23,
   "id": "6b4b1c9e-6189-46de-ab2d-1e5998fb3111",
   "metadata": {},
   "outputs": [
    {
     "data": {
      "text/plain": [
       "1250"
      ]
     },
     "execution_count": 23,
     "metadata": {},
     "output_type": "execute_result"
    }
   ],
   "source": [
    "max(comment_len)"
   ]
  },
  {
   "cell_type": "markdown",
   "id": "32f61289-bb0e-433b-b8ed-164d84ff6376",
   "metadata": {},
   "source": [
    "#### Vectorisation"
   ]
  },
  {
   "cell_type": "code",
   "execution_count": 24,
   "id": "197b3b39-1fbb-468b-9438-9be9b192bcb9",
   "metadata": {},
   "outputs": [],
   "source": [
    "X = dfpro[\"processed_comment\"]\n",
    "y = dfpro[labels].values"
   ]
  },
  {
   "cell_type": "code",
   "execution_count": 25,
   "id": "2986b9e1-c527-4cc4-ad14-7dd06675442d",
   "metadata": {},
   "outputs": [],
   "source": [
    "MAX_FEATURES = 200000"
   ]
  },
  {
   "cell_type": "code",
   "execution_count": 26,
   "id": "86287ab8-7228-47fa-9bf2-8d682fa35450",
   "metadata": {},
   "outputs": [],
   "source": [
    "vectorizer = TextVectorization(\n",
    "    max_tokens=MAX_FEATURES, output_sequence_length=1800, output_mode=\"int\"\n",
    ")"
   ]
  },
  {
   "cell_type": "code",
   "execution_count": 27,
   "id": "8e98e213-4073-4788-951b-0319c17c07f7",
   "metadata": {},
   "outputs": [],
   "source": [
    "vectorizer.adapt(X.values)"
   ]
  },
  {
   "cell_type": "code",
   "execution_count": 28,
   "id": "839a503c-551a-4a58-a040-5b6349a5cfb8",
   "metadata": {},
   "outputs": [],
   "source": [
    "vectorizer_text = vectorizer(X.values)"
   ]
  },
  {
   "cell_type": "code",
   "execution_count": 29,
   "id": "740f6c56-728c-4eff-959c-e949fd944414",
   "metadata": {},
   "outputs": [
    {
     "data": {
      "text/plain": [
       "<tf.Tensor: shape=(159571, 1800), dtype=int64, numpy=\n",
       "array([[  521,     5,     9, ...,     0,     0,     0],\n",
       "       [13075,   839,   404, ...,     0,     0,     0],\n",
       "       [  287,   285,    72, ...,     0,     0,     0],\n",
       "       ...,\n",
       "       [23359,  5479,   559, ...,     0,     0,     0],\n",
       "       [   36,    12,   133, ...,     0,     0,     0],\n",
       "       [   72,    13,   114, ...,     0,     0,     0]])>"
      ]
     },
     "execution_count": 29,
     "metadata": {},
     "output_type": "execute_result"
    }
   ],
   "source": [
    "vectorizer_text"
   ]
  },
  {
   "cell_type": "code",
   "execution_count": 30,
   "id": "083ae4af-7ef2-466d-b1f0-ea4a8e5a9c15",
   "metadata": {},
   "outputs": [],
   "source": [
    "# creating pipeline for memory optimisation\n",
    "# MCSHBAP - map, cache, shuffle, batch, prefetch from tensor_slices,list_file\n",
    "dataset = tf.data.Dataset.from_tensor_slices((vectorizer_text, y))\n",
    "dataset = dataset.cache()\n",
    "dataset = dataset.shuffle(160000)\n",
    "dataset = dataset.batch(16)\n",
    "dataset = dataset.prefetch(8)  # prevents bottleneck"
   ]
  },
  {
   "cell_type": "code",
   "execution_count": 31,
   "id": "0b434ff1-8a0d-4497-adda-4f2e3f53f072",
   "metadata": {},
   "outputs": [],
   "source": [
    "batch_x, batch_y = dataset.as_numpy_iterator().next()"
   ]
  },
  {
   "cell_type": "code",
   "execution_count": 32,
   "id": "bc05aaa8-68da-4ed2-89dc-74c247805541",
   "metadata": {},
   "outputs": [
    {
     "data": {
      "text/plain": [
       "array([[   105,      4,    248, ...,      0,      0,      0],\n",
       "       [    27,     38, 109497, ...,      0,      0,      0],\n",
       "       [    13,    268,     41, ...,      0,      0,      0],\n",
       "       ...,\n",
       "       [  1432,  12082,   1869, ...,      0,      0,      0],\n",
       "       [    13,   4150,     62, ...,      0,      0,      0],\n",
       "       [  2935,    590,   1547, ...,      0,      0,      0]])"
      ]
     },
     "execution_count": 32,
     "metadata": {},
     "output_type": "execute_result"
    }
   ],
   "source": [
    "batch_x"
   ]
  },
  {
   "cell_type": "code",
   "execution_count": 33,
   "id": "0faabeff-7988-4ec4-9644-11bcf887852f",
   "metadata": {},
   "outputs": [],
   "source": [
    "## Train test split\n",
    "train = dataset.take(int(len(dataset) * 0.7))\n",
    "val = dataset.skip(int(len(dataset) * 0.7)).take(int(len(dataset) * 0.2))\n",
    "test = dataset.skip(int(len(dataset) * 0.9)).take(int(len(dataset) * 0.1))"
   ]
  },
  {
   "cell_type": "code",
   "execution_count": 34,
   "id": "ab3256dc-6c90-43d6-b06d-378e8cd3aa35",
   "metadata": {},
   "outputs": [
    {
     "data": {
      "text/plain": [
       "6981"
      ]
     },
     "execution_count": 34,
     "metadata": {},
     "output_type": "execute_result"
    }
   ],
   "source": [
    "len(train)"
   ]
  },
  {
   "cell_type": "code",
   "execution_count": 35,
   "id": "a34bbd9b-3812-4772-95df-f3864208ed1b",
   "metadata": {},
   "outputs": [],
   "source": [
    "train_generator = train.as_numpy_iterator()"
   ]
  },
  {
   "cell_type": "code",
   "execution_count": 36,
   "id": "0884a4ba-4c35-487c-af74-6ad40ad7c685",
   "metadata": {},
   "outputs": [
    {
     "data": {
      "text/plain": [
       "(array([[  3601,      6,      0, ...,      0,      0,      0],\n",
       "        [ 52805,  10642,   1806, ...,      0,      0,      0],\n",
       "        [    32,    132,    160, ...,      0,      0,      0],\n",
       "        ...,\n",
       "        [   128,    124,      3, ...,      0,      0,      0],\n",
       "        [ 25028,   2762, 128217, ...,      0,      0,      0],\n",
       "        [   270,   1102,     52, ...,      0,      0,      0]]),\n",
       " array([[0, 0, 0, 0, 0, 0],\n",
       "        [1, 0, 0, 0, 0, 0],\n",
       "        [0, 0, 0, 0, 0, 0],\n",
       "        [0, 0, 0, 0, 0, 0],\n",
       "        [0, 0, 0, 0, 0, 0],\n",
       "        [1, 0, 1, 0, 1, 0],\n",
       "        [0, 0, 0, 0, 0, 0],\n",
       "        [0, 0, 0, 0, 0, 0],\n",
       "        [0, 0, 0, 0, 0, 0],\n",
       "        [0, 0, 0, 0, 0, 0],\n",
       "        [0, 0, 0, 0, 0, 0],\n",
       "        [0, 0, 0, 0, 0, 0],\n",
       "        [0, 0, 0, 0, 0, 0],\n",
       "        [0, 0, 0, 0, 0, 0],\n",
       "        [0, 0, 0, 0, 0, 0],\n",
       "        [0, 0, 0, 0, 0, 0]]))"
      ]
     },
     "execution_count": 36,
     "metadata": {},
     "output_type": "execute_result"
    }
   ],
   "source": [
    "train_generator.next()"
   ]
  },
  {
   "cell_type": "markdown",
   "id": "c808a678-5313-47bc-9282-84d0086c2552",
   "metadata": {},
   "source": [
    "#### Model Building"
   ]
  },
  {
   "cell_type": "code",
   "execution_count": 37,
   "id": "fc1e8feb-cafc-4207-b7ff-35f60b4533b9",
   "metadata": {},
   "outputs": [],
   "source": [
    "from tensorflow.keras.models import Sequential\n",
    "from tensorflow.keras.layers import (\n",
    "    LSTM,\n",
    "    Dropout,\n",
    "    Bidirectional,\n",
    "    Embedding,\n",
    "    Dense,\n",
    "    Flatten,\n",
    ")"
   ]
  },
  {
   "cell_type": "code",
   "execution_count": 20,
   "id": "ceeda61d-05e5-4213-baa3-3020c9a4f775",
   "metadata": {},
   "outputs": [],
   "source": [
    "with tf.device(\"/GPU:0\"):\n",
    "    model = Sequential()\n",
    "    # Create the embedding layer\n",
    "    model.add(Embedding(MAX_FEATURES + 1, 300))\n",
    "    # model.add(Flatten())\n",
    "    # Bidirectional LSTM Layer\n",
    "    model.add(Bidirectional(LSTM(300, activation=\"tanh\")))\n",
    "    # Feature extractor Fully connected layers\n",
    "    model.add(Dense(128, activation=\"relu\"))\n",
    "    model.add(Dense(256, activation=\"relu\"))\n",
    "    model.add(Dense(128, activation=\"relu\"))\n",
    "    # Final layer\n",
    "    model.add(Dense(6, activation=\"sigmoid\"))"
   ]
  },
  {
   "cell_type": "code",
   "execution_count": 21,
   "id": "073ed5d4-acea-42d4-8044-556a61e1b099",
   "metadata": {},
   "outputs": [
    {
     "name": "stdout",
     "output_type": "stream",
     "text": [
      "Model: \"sequential\"\n",
      "_________________________________________________________________\n",
      " Layer (type)                Output Shape              Param #   \n",
      "=================================================================\n",
      " embedding (Embedding)       (None, None, 300)         60000300  \n",
      "                                                                 \n",
      " bidirectional (Bidirectiona  (None, 600)              1442400   \n",
      " l)                                                              \n",
      "                                                                 \n",
      " dense (Dense)               (None, 128)               76928     \n",
      "                                                                 \n",
      " dense_1 (Dense)             (None, 256)               33024     \n",
      "                                                                 \n",
      " dense_2 (Dense)             (None, 128)               32896     \n",
      "                                                                 \n",
      " dense_3 (Dense)             (None, 6)                 774       \n",
      "                                                                 \n",
      "=================================================================\n",
      "Total params: 61,586,322\n",
      "Trainable params: 61,586,322\n",
      "Non-trainable params: 0\n",
      "_________________________________________________________________\n"
     ]
    }
   ],
   "source": [
    "model.summary()"
   ]
  },
  {
   "cell_type": "code",
   "execution_count": 22,
   "id": "b50f6186-72cb-4c8f-970a-3af0158044cf",
   "metadata": {},
   "outputs": [],
   "source": [
    "model.compile(loss=\"BinaryCrossentropy\", optimizer=\"Adam\")"
   ]
  },
  {
   "cell_type": "code",
   "execution_count": 23,
   "id": "3705d795-cc79-4294-be57-3f67d8dff773",
   "metadata": {},
   "outputs": [],
   "source": [
    "from tensorflow.keras.callbacks import EarlyStopping, ModelCheckpoint\n",
    "\n",
    "early_stp = EarlyStopping(monitor=\"val_loss\", mode=\"min\", verbose=1, patience=4)\n",
    "# saving the model with the best metric\n",
    "mdl_save = ModelCheckpoint(\n",
    "    \"best_model02.h5\", save_best_only=True, monitor=\"val_loss\", mode=\"min\"\n",
    ")"
   ]
  },
  {
   "cell_type": "code",
   "execution_count": 1,
   "id": "4dd35359-fdcd-43cf-9554-d228a046cc43",
   "metadata": {},
   "outputs": [],
   "source": [
    "history = model.fit(\n",
    "    train, validation_data=val, epochs=25, callbacks=[early_stp, mdl_save]\n",
    ")"
   ]
  },
  {
   "cell_type": "code",
   "execution_count": 16,
   "id": "97b63392-d886-43b0-a336-286633878d9b",
   "metadata": {},
   "outputs": [
    {
     "data": {
      "image/png": "[encoded data removed]",
      "text/plain": [
       "<Figure size 432x288 with 1 Axes>"
      ]
     },
     "metadata": {
      "needs_background": "light"
     },
     "output_type": "display_data"
    }
   ],
   "source": [
    "plt.plot(history.history[\"loss\"])\n",
    "plt.plot(history.history[\"val_loss\"])\n",
    "plt.title(\"model loss\")\n",
    "plt.ylabel(\"loss\")\n",
    "plt.xlabel(\"epoch\")\n",
    "plt.xticks(x, labels)\n",
    "plt.legend([\"train\", \"validation\"], loc=\"upper right\")\n",
    "plt.show()"
   ]
  },
  {
   "cell_type": "code",
   "execution_count": 39,
   "id": "aed79536-0dfc-4ad8-aca1-17f2097d8e5b",
   "metadata": {},
   "outputs": [],
   "source": [
    "model = tf.keras.models.load_model(\"best_model.h5\")"
   ]
  },
  {
   "cell_type": "code",
   "execution_count": 20,
   "id": "a03bc86b-8ae7-4d6e-ae8a-806740a79f37",
   "metadata": {},
   "outputs": [
    {
     "name": "stdout",
     "output_type": "stream",
     "text": [
      "1/1 [==============================] - 2s 2s/step\n"
     ]
    },
    {
     "data": {
      "text/plain": [
       "array([[0.54937404, 0.07808019, 0.15660417, 0.10183867, 0.26980236,\n",
       "        0.5132418 ]], dtype=float32)"
      ]
     },
     "execution_count": 20,
     "metadata": {},
     "output_type": "execute_result"
    }
   ],
   "source": [
    "input_text = vectorizer(\"the weather is so good\")\n",
    "model.predict(np.array([input_text]))"
   ]
  },
  {
   "cell_type": "code",
   "execution_count": null,
   "id": "a7d6b2b6-07be-4a84-ba60-ec37a388cde2",
   "metadata": {},
   "outputs": [],
   "source": [
    "batch_x, batch_y = test.as_numpy_iterator().next()"
   ]
  },
  {
   "cell_type": "code",
   "execution_count": null,
   "id": "64d66244-8b69-48d1-bcf5-c71d01168f64",
   "metadata": {},
   "outputs": [],
   "source": [
    "(model.predict(batch_x) > 0.5).astype(int)"
   ]
  },
  {
   "cell_type": "code",
   "execution_count": null,
   "id": "4a5e8e8e-22c5-4c34-b5c3-9edac69a63eb",
   "metadata": {},
   "outputs": [],
   "source": [
    "batch_y"
   ]
  },
  {
   "cell_type": "code",
   "execution_count": 22,
   "id": "31d0e63d-67f1-46aa-988b-d733d70afd94",
   "metadata": {},
   "outputs": [],
   "source": [
    "from tensorflow.keras.metrics import Precision, Recall, AUC\n",
    "from sklearn.metrics import roc_auc_score, classification_report"
   ]
  },
  {
   "cell_type": "code",
   "execution_count": 23,
   "id": "3ea16f69-91ac-4187-b986-e592c64abc68",
   "metadata": {},
   "outputs": [],
   "source": [
    "pre = Precision()\n",
    "re = Recall()\n",
    "auc = AUC(curve=\"ROC\", multi_label=True, num_labels=6)"
   ]
  },
  {
   "cell_type": "code",
   "execution_count": 5,
   "id": "af7afd6a-344f-4d13-a74e-224756a8a595",
   "metadata": {},
   "outputs": [],
   "source": [
    "for batch in test.as_numpy_iterator():\n",
    "    # Unpack the batch\n",
    "    X_true, y_true = batch\n",
    "    # Make a prediction\n",
    "    yhat = model.predict(X_true, verbose=0)\n",
    "\n",
    "    # Flatten the predictions\n",
    "    # y_true = y_true.flatten()\n",
    "    # yhat = yhat.flatten()\n",
    "\n",
    "    pre.update_state(y_true, yhat)\n",
    "    re.update_state(y_true, yhat)\n",
    "    auc.update_state(y_true, yhat)"
   ]
  },
  {
   "cell_type": "code",
   "execution_count": 25,
   "id": "56f31bb0-66cc-4c0f-9ee9-d10189b02e63",
   "metadata": {},
   "outputs": [
    {
     "name": "stdout",
     "output_type": "stream",
     "text": [
      "Precision: 0.9795976281166077, Recall:0.9732545018196106, AUC:0.9970322251319885\n"
     ]
    }
   ],
   "source": [
    "print(\n",
    "    f\"Precision: {pre.result().numpy()}, Recall:{re.result().numpy()}, AUC:{auc.result().numpy()}\"\n",
    ")"
   ]
  },
  {
   "cell_type": "markdown",
   "id": "b9ffa528-2251-4418-bc16-8baaf7f41ad5",
   "metadata": {},
   "source": [
    "#### Deployment on Gradio app"
   ]
  },
  {
   "cell_type": "code",
   "execution_count": 2,
   "id": "34efff24-cbc9-491d-a408-cb44a07ae0f2",
   "metadata": {},
   "outputs": [],
   "source": [
    "!pip install gradio jinja2"
   ]
  },
  {
   "cell_type": "code",
   "execution_count": 42,
   "id": "d9df7b4b-fb4c-411c-8c46-e7b2a06eb3e6",
   "metadata": {},
   "outputs": [],
   "source": [
    "import gradio as gr"
   ]
  },
  {
   "cell_type": "code",
   "execution_count": 43,
   "id": "bd18490a-6a72-43fa-a343-7fcee84964a8",
   "metadata": {},
   "outputs": [],
   "source": [
    "labels = [\"TOXIC\", \"SEVERE TOXIC\", \"OBSCENE\", \"THREAT\", \"INSULT\", \"IDENTITY HATE\"]\n",
    "\n",
    "\n",
    "def comment_toxicity(comment):\n",
    "    vectorized_comment = vectorizer([comment])\n",
    "    results = model.predict(vectorized_comment)\n",
    "    prediction_text = \" \"\n",
    "    for idx, col in enumerate(labels):\n",
    "        prediction_text += \"{}: {}\\n\".format(col, results[0][idx] > 0.5)\n",
    "    return prediction_text"
   ]
  },
  {
   "cell_type": "code",
   "execution_count": 3,
   "id": "bf625ce1-25f0-4bdb-ba8f-c8f2cd848b8e",
   "metadata": {},
   "outputs": [],
   "source": [
    "interface = gr.Interface(\n",
    "    fn=comment_toxicity,\n",
    "    title=\"TOXIC COMMENT CLASSIFIER\",\n",
    "    inputs=gr.inputs.Textbox(lines=2, placeholder=\"Comment to score\", label=\"COMMENT\"),\n",
    "    outputs=gr.outputs.Textbox(\"text\", label=\"OUTPUT\"),\n",
    "    allow_flagging=\"manual\",\n",
    "    flagging_options=[\"Incorrect\", \"Partially Correct\", \"Correct\"],\n",
    "    flagging_dir=\"./Flagged data\",\n",
    ")"
   ]
  },
  {
   "cell_type": "code",
   "execution_count": 4,
   "id": "0db78c2e-8044-4efa-afe9-9fbfc534d093",
   "metadata": {},
   "outputs": [],
   "source": [
    "interface.launch(share=True, debug=True)"
   ]
  }
 ],
 "metadata": {
  "kernelspec": {
   "display_name": "Python 3 (ipykernel)",
   "language": "python",
   "name": "python3"
  },
  "language_info": {
   "codemirror_mode": {
    "name": "ipython",
    "version": 3
   },
   "file_extension": ".py",
   "mimetype": "text/x-python",
   "name": "python",
   "nbconvert_exporter": "python",
   "pygments_lexer": "ipython3",
   "version": "3.9.13"
  }
 },
 "nbformat": 4,
 "nbformat_minor": 5
}
